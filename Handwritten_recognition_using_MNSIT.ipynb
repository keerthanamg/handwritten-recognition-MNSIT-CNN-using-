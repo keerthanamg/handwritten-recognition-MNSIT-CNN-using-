{
  "nbformat": 4,
  "nbformat_minor": 0,
  "metadata": {
    "colab": {
      "provenance": [],
      "include_colab_link": true
    },
    "kernelspec": {
      "name": "python3",
      "display_name": "Python 3"
    },
    "language_info": {
      "name": "python"
    }
  },
  "cells": [
    {
      "cell_type": "markdown",
      "metadata": {
        "id": "view-in-github",
        "colab_type": "text"
      },
      "source": [
        "<a href=\"https://colab.research.google.com/github/keerthanamg/handwritten-recognition-MNSIT-CNN-using-/blob/main/Handwritten_recognition_using_MNSIT.ipynb\" target=\"_parent\"><img src=\"https://colab.research.google.com/assets/colab-badge.svg\" alt=\"Open In Colab\"/></a>"
      ]
    },
    {
      "cell_type": "code",
      "source": [
        "#Handwritten recognition using MNSIT – CNN\n",
        "#import required library packages\n",
        "import tensorflow as tf\n",
        "from tensorflow import keras\n",
        "from tensorflow.keras.datasets import mnist\n",
        "\n",
        "# Load the MNIST dataset\n",
        "(x_train, y_train), (x_test, y_test) = mnist.load_data()\n",
        "\n",
        "# import library packages for plotting the dataset\n",
        "import matplotlib.pyplot as plt\n",
        "import numpy as np\n",
        "from tensorflow.keras.datasets import mnist\n",
        "import random\n",
        "\n",
        "# Load the MNIST dataset\n",
        "(x_train, y_train), (x_test, y_test) = mnist.load_data()\n",
        "\n",
        "# Display some random examples from the training data\n",
        "num_examples = 1\n",
        "rand_indices = np.random.randint(len(x_train), size=num_examples)\n",
        "tem= random.randint(1,1000)\n",
        "images = x_train[tem]\n",
        "labels = y_train[tem]\n",
        "fig, axs = plt.subplots(1, num_examples, figsize=(20, 2))\n",
        "plt.imshow(images)\n",
        "plt.show()\n",
        "\n",
        "# Preprocess the data\n",
        "x_train = x_train.reshape(x_train.shape[0], 28, 28, 1)\n",
        "x_test = x_test.reshape(x_test.shape[0], 28, 28, 1)\n",
        "x_train = x_train.astype('float32') / 255.\n",
        "x_test = x_test.astype('float32') / 255.\n",
        "\n",
        "# Define the model\n",
        "model = keras.Sequential([\n",
        "    keras.layers.Conv2D(32, kernel_size=(3, 3), activation='relu', input_shape=(28, 28, 1)),\n",
        "    keras.layers.MaxPooling2D(pool_size=(2, 2)),\n",
        "    keras.layers.Flatten(),\n",
        "    keras.layers.Dense(128, activation='relu'),\n",
        "    keras.layers.Dropout(0.5),\n",
        "    keras.layers.Dense(10, activation='softmax')\n",
        "])\n",
        "\n",
        "\n",
        "# Compile the model\n",
        "model.compile(loss='sparse_categorical_crossentropy', optimizer='adam', metrics=['accuracy'])\n",
        "\n",
        "\n",
        "# Train the model\n",
        "model.fit(x_train, y_train, batch_size=128, epochs=5, verbose=1, validation_data=(x_test, y_test))\n",
        "\n",
        "\n",
        "# Evaluate the model\n",
        "score = model.evaluate(x_test, y_test, verbose=0)\n",
        "print('Test loss:', score[0])\n",
        "print('Test accuracy:', score[1])\n",
        "\n",
        "# Make predictions on test data\n",
        "predictions = model.predict(x_test)\n",
        "x=model.predict(images.reshape(1,28,28,1))\n",
        "\n",
        "np.argmax(x,axis=1)\n",
        "\n",
        "\n",
        "\n"
      ],
      "metadata": {
        "colab": {
          "base_uri": "https://localhost:8080/",
          "height": 477
        },
        "id": "ZmmKYchWAemU",
        "outputId": "7110c874-aca8-4415-e60a-8f51266ac265"
      },
      "execution_count": null,
      "outputs": [
        {
          "output_type": "display_data",
          "data": {
            "text/plain": [
              "<Figure size 2000x200 with 1 Axes>"
            ],
            "image/png": "[encoded data removed]"
          },
          "metadata": {}
        },
        {
          "output_type": "stream",
          "name": "stdout",
          "text": [
            "Epoch 1/5\n",
            "469/469 [==============================] - 40s 83ms/step - loss: 0.3285 - accuracy: 0.9009 - val_loss: 0.0878 - val_accuracy: 0.9740\n",
            "Epoch 2/5\n",
            "469/469 [==============================] - 33s 70ms/step - loss: 0.1176 - accuracy: 0.9661 - val_loss: 0.0544 - val_accuracy: 0.9809\n",
            "Epoch 3/5\n",
            "469/469 [==============================] - 32s 69ms/step - loss: 0.0842 - accuracy: 0.9751 - val_loss: 0.0477 - val_accuracy: 0.9837\n",
            "Epoch 4/5\n",
            "469/469 [==============================] - 34s 72ms/step - loss: 0.0707 - accuracy: 0.9789 - val_loss: 0.0446 - val_accuracy: 0.9852\n",
            "Epoch 5/5\n",
            "469/469 [==============================] - 31s 66ms/step - loss: 0.0614 - accuracy: 0.9814 - val_loss: 0.0386 - val_accuracy: 0.9868\n",
            "Test loss: 0.038607608526945114\n",
            "Test accuracy: 0.9868000149726868\n",
            "313/313 [==============================] - 2s 7ms/step\n",
            "1/1 [==============================] - 0s 107ms/step\n"
          ]
        },
        {
          "output_type": "execute_result",
          "data": {
            "text/plain": [
              "array([0])"
            ]
          },
          "metadata": {},
          "execution_count": 2
        }
      ]
    }
  ]
}